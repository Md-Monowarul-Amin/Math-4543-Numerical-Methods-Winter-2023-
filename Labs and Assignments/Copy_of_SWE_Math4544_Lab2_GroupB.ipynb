{
  "nbformat": 4,
  "nbformat_minor": 0,
  "metadata": {
    "colab": {
      "provenance": []
    },
    "kernelspec": {
      "name": "python3",
      "display_name": "Python 3"
    },
    "language_info": {
      "name": "python"
    }
  },
  "cells": [
    {
      "cell_type": "markdown",
      "metadata": {
        "id": "SChhcgB_Tkv9"
      },
      "source": [
        "# **Lab 2 : Direct method of Interpolation**<br>\n",
        "\n",
        "Interpolation is the process of estimating unknown data that lies within the range of some known data. The simplest interpolation is the **Direct method of Interpolation**. In order to interpolate unknown data, one needs to define a model that would fit the known data and based on that model, one would obtain the unknown data. This model would basically be a function that tries to satisfy the known data points. There can be various types of functions that may satisfy the same given data points, but for interpolation, we usually choose **polynomials** as interpolating functions due to the fact that polynomials are very easy to evaluate, differentiate and integrate.\n",
        "\n",
        "In today's lab, we will be implementing the Direct method of Interpolation in python. To test our implementation, we will be using the same data that we used during our class lectures. Run the following cell to load the known data points:\n"
      ]
    },
    {
      "cell_type": "code",
      "metadata": {
        "id": "rZ4tGQSjTvYF"
      },
      "source": [
        "import numpy as np\n",
        "from scipy import linalg\n",
        "\n",
        "t = [0, 10, 15, 20, 22.5, 30]\n",
        "v = [0, 227.04, 362.78, 517.35, 602.97, 901.67]"
      ],
      "execution_count": null,
      "outputs": []
    },
    {
      "cell_type": "markdown",
      "metadata": {
        "id": "3sOLCbqJT7q0"
      },
      "source": [
        "##Task 1\n",
        "Design a utility function that will be called in the `DirectInterpolation` function. The purpose of this function will be to find the $n+1$ closest points to the unknown value $t_{new}$ where we want to interpolate the data, where $n$ is the order of the interpolating polynomial. Understand that the nearest points should be selected such that they bracket the $t_{new}$. The function to be implemented is as follows:"
      ]
    },
    {
      "cell_type": "code",
      "metadata": {
        "id": "f6HGUB7nT9k9"
      },
      "source": [
        "def NearestPoints(t, v, n, t_new):\n",
        "  #Write your implementation here\n",
        "  t_nearest = []\n",
        "  v_nearest = []\n",
        "  far_from_t_new = []\n",
        "\n",
        "  for i in range(len(t)):\n",
        "    far_from_t_new.append((i, abs(t[i]-t_new)))\n",
        "\n",
        "  far_from_t_new.sort(key = lambda x: x[1])\n",
        "\n",
        "  for i in range(n+1):\n",
        "    ind = far_from_t_new[i][0]\n",
        "    t_nearest.append(t[ind])\n",
        "    v_nearest.append(v[ind])\n",
        "\n",
        "  #print(far_from_t_new)\n",
        "  return t_nearest, v_nearest\n",
        "\n"
      ],
      "execution_count": null,
      "outputs": []
    },
    {
      "cell_type": "markdown",
      "source": [
        "The above function is supposed to return two vectors, say `t_nearest` and `v_nearest` consisting of $n+1$ elements each. For testing how the function works, we can print the data and see what we are getting. If our implementation is correct, then we should be getting $[15], [362.78]$ for $n=0$. Run the following cell to check this:"
      ],
      "metadata": {
        "id": "w25YRkvd9XEh"
      }
    },
    {
      "cell_type": "code",
      "source": [
        "n = 0\n",
        "t_new = 16\n",
        "\n",
        "t_nearest, v_nearest = NearestPoints(t, v, n, t_new)\n",
        "print(t_nearest)\n",
        "print(v_nearest)"
      ],
      "metadata": {
        "id": "FSo0cJ1TkmRN",
        "colab": {
          "base_uri": "https://localhost:8080/"
        },
        "outputId": "8579b348-7d86-49f3-fa5b-65788d025333"
      },
      "execution_count": null,
      "outputs": [
        {
          "output_type": "stream",
          "name": "stdout",
          "text": [
            "[15]\n",
            "[362.78]\n"
          ]
        }
      ]
    },
    {
      "cell_type": "code",
      "source": [
        "n = 1\n",
        "t_new = 16\n",
        "\n",
        "t_nearest, v_nearest = NearestPoints(t, v, n, t_new)\n",
        "print(t_nearest)\n",
        "print(v_nearest)"
      ],
      "metadata": {
        "id": "z5SN6pQj9Z7Q",
        "colab": {
          "base_uri": "https://localhost:8080/"
        },
        "outputId": "ba8e02f2-ce08-4645-ec51-0de9b4ae46a1"
      },
      "execution_count": null,
      "outputs": [
        {
          "output_type": "stream",
          "name": "stdout",
          "text": [
            "[15, 20]\n",
            "[362.78, 517.35]\n"
          ]
        }
      ]
    },
    {
      "cell_type": "markdown",
      "source": [
        "The output for $n=1$ should be $[15, 20], [362.78, 517.35]$"
      ],
      "metadata": {
        "id": "JdaIx97ljwYk"
      }
    },
    {
      "cell_type": "code",
      "source": [
        "n = 2\n",
        "t_new = 16\n",
        "\n",
        "t_nearest, v_nearest = NearestPoints(t, v, n, t_new)\n",
        "print(t_nearest)\n",
        "print(v_nearest)"
      ],
      "metadata": {
        "id": "hOb4TMsTkBjs",
        "colab": {
          "base_uri": "https://localhost:8080/"
        },
        "outputId": "4cc19946-f74c-446f-c0c4-7a7ef1ba1397"
      },
      "execution_count": null,
      "outputs": [
        {
          "output_type": "stream",
          "name": "stdout",
          "text": [
            "[(2, 1), (3, 4), (1, 6), (4, 6.5), (5, 14), (0, 16)]\n",
            "[15, 20, 10]\n",
            "[362.78, 517.35, 227.04]\n"
          ]
        }
      ]
    },
    {
      "cell_type": "markdown",
      "source": [
        "The output for $n=2$ should be $[15, 20, 10], [362.78, 517.35, 227.04]$"
      ],
      "metadata": {
        "id": "KzFR4QO8kFRn"
      }
    },
    {
      "cell_type": "markdown",
      "metadata": {
        "id": "Z6sc0ZNUUGNk"
      },
      "source": [
        "## Task 2\n",
        "Now your task is to design a generalized function that takes the given data as parameters as well as the order $n$ of the polynomial and uses the *Direct Interpolation* method to interpolate the unknown data at $t_{new}$. The following cell contains the function to be implemented:"
      ]
    },
    {
      "cell_type": "code",
      "metadata": {
        "id": "zHadfasm8dUF"
      },
      "source": [
        "def DirectInterpolation(t, v, n, t_new):\n",
        "    #Write your implementation here.\n",
        "    t_nearest, v_nearest = NearestPoints(t, v, n, t_new)\n",
        "    y_matrix =[]\n",
        "    x_matrix = []\n",
        "    for i in range(n+1):\n",
        "      y_matrix.append([v_nearest[i]])\n",
        "      x_row = [1]\n",
        "      for j in range(1, n+1):\n",
        "        x_row.append(t_nearest[i] ** j)\n",
        "      x_matrix.append(x_row)\n",
        "    print(x_matrix)\n",
        "\n",
        "    x_inverse = linalg.inv(x_matrix)\n",
        "\n",
        "    #print(np.dot(x_inverse,x_matrix), x_inverse)\n",
        "    a_matrix = np.dot(x_inverse, y_matrix)\n",
        "    print(a_matrix)\n",
        "    f = a_matrix\n",
        "    return f\n",
        "\n",
        "def eval(f, t_new):\n",
        "    #Write your implementation here.\n",
        "\n",
        "    val = 0\n",
        "    for i in range(len(f)):\n",
        "      val += f[i][0] * (t_new ** i)\n",
        "\n",
        "    return val"
      ],
      "execution_count": null,
      "outputs": []
    },
    {
      "cell_type": "markdown",
      "metadata": {
        "id": "t1yWM5V18cA2"
      },
      "source": [
        "Note that the above function will at first need to find a number of closest points to the unknown data $t_{new}$, and this number will vary depending on the order $n$ of the polynomial that we want to use as the interpolating function. So you will have to call the function you implemented in Task 1 inside this function."
      ]
    },
    {
      "cell_type": "code",
      "source": [
        "#print(DirectInterpolation(t, v, 2, 16), 16)\n",
        "print(eval(DirectInterpolation(t, v, 1, 16), 16))"
      ],
      "metadata": {
        "id": "91g2Q0pTm0Ds",
        "colab": {
          "base_uri": "https://localhost:8080/"
        },
        "outputId": "399e74bd-4515-4546-bd68-977c3570fee8"
      },
      "execution_count": null,
      "outputs": [
        {
          "output_type": "stream",
          "name": "stdout",
          "text": [
            "[[1, 15], [1, 20]]\n",
            "[[-100.93 ]\n",
            " [  30.914]]\n",
            "393.69399999999996\n"
          ]
        }
      ]
    },
    {
      "cell_type": "markdown",
      "source": [
        "For $n=1$, we should get $v(16) = 393.7ms^{-1}$."
      ],
      "metadata": {
        "id": "kb6DPOAmnIq7"
      }
    },
    {
      "cell_type": "code",
      "source": [
        "print(eval(DirectInterpolation(t, v, 2, 16), 16))"
      ],
      "metadata": {
        "id": "dqVSikEhnERc",
        "colab": {
          "base_uri": "https://localhost:8080/"
        },
        "outputId": "f4ec124b-d2f7-42cd-b0c7-05f95c7ffa62"
      },
      "execution_count": null,
      "outputs": [
        {
          "output_type": "stream",
          "name": "stdout",
          "text": [
            "[[1, 15, 225], [1, 20, 400], [1, 10, 100]]\n",
            "[[12.05  ]\n",
            " [17.733 ]\n",
            " [ 0.3766]]\n",
            "392.1876000000011\n"
          ]
        }
      ]
    },
    {
      "cell_type": "markdown",
      "source": [
        "For $n=2$, we should get $v(16) = 392.19ms^{-1}$."
      ],
      "metadata": {
        "id": "4eCg93mknX20"
      }
    },
    {
      "cell_type": "code",
      "source": [
        "print(eval(DirectInterpolation(t, v, 3, 16), 16))"
      ],
      "metadata": {
        "id": "eabSBX2WnEsS",
        "colab": {
          "base_uri": "https://localhost:8080/"
        },
        "outputId": "8aeb6bc8-ea3a-4c3b-e1c4-85fb552563b5"
      },
      "execution_count": null,
      "outputs": [
        {
          "output_type": "stream",
          "name": "stdout",
          "text": [
            "[[1, 15, 225, 3375], [1, 20, 400, 8000], [1, 10, 100, 1000], [1, 22.5, 506.25, 11390.625]]\n",
            "[[-4.25400000e+00]\n",
            " [ 2.12655333e+01]\n",
            " [ 1.32040000e-01]\n",
            " [ 5.43466667e-03]]\n",
            "392.0571680000012\n"
          ]
        }
      ]
    },
    {
      "cell_type": "markdown",
      "source": [
        "For $n=3$, we should get $v(16) = 392.06ms^{-1}$."
      ],
      "metadata": {
        "id": "GvFpwbNmnez_"
      }
    },
    {
      "cell_type": "markdown",
      "metadata": {
        "id": "rcyU1bzM9u3g"
      },
      "source": [
        "##Task 3\n",
        "Now, test the function using different order of polynomials, setting $n = 1, 2,$ and $3$ and so on and print the absolute relative approximate error at each step. Also generate a plot of Order $(n)$ vs Relative Approximate Error $(|\\epsilon_a|\\%)$. In case you do not remember how graphs can be plotted in Python, here is a sample code showing how to do it using the `matplotlib` library."
      ]
    },
    {
      "cell_type": "code",
      "metadata": {
        "id": "HcPhTbIu_sn4",
        "colab": {
          "base_uri": "https://localhost:8080/",
          "height": 472
        },
        "outputId": "526948f4-751b-440e-fb7c-bad123ae86e4"
      },
      "source": [
        "import numpy as np\n",
        "import matplotlib.pyplot as plt\n",
        "\n",
        "iters = np.arange(0, 5) #start=0, stop=5, and since no step is given, so default step=1\n",
        "vals = np.arange(100, 200, 20) #start=100, stop=200, step=20\n",
        "\n",
        "plt.plot(iters, vals)\n",
        "plt.title(\"Iterations vs values plot\")\n",
        "plt.xlabel(\"Iteration\")\n",
        "plt.ylabel(\"Value\")\n",
        "plt.show()"
      ],
      "execution_count": null,
      "outputs": [
        {
          "output_type": "display_data",
          "data": {
            "text/plain": [
              "<Figure size 640x480 with 1 Axes>"
            ],
            "image/png": "[encoded data removed]"
          },
          "metadata": {}
        }
      ]
    },
    {
      "cell_type": "code",
      "source": [
        "# Write your code here for finding the relative approximate errors for different orders of the polynomial\n",
        "\n",
        "output_value_list = []\n",
        "relative_error_list = []\n",
        "n_list = []\n",
        "for i in range(1, 6):\n",
        "  n_list.append(i)\n",
        "for i in range(1, 6):\n",
        "  val = eval(DirectInterpolation(t, v, i, 16), 16)\n",
        "  output_value_list.append(val)\n",
        "\n",
        "for i in range(len(output_value_list)-1):\n",
        "  relative_error = ((output_value_list[i] - output_value_list[i+1]) / output_value_list[i+1]) * 100\n",
        "  relative_error_list.append(relative_error)\n",
        "\n",
        "print(n_list, relative_error_list)\n",
        "plt.plot(n_list[0:4], relative_error_list)\n",
        "plt.title(\"Iterations vs values plot\")\n",
        "plt.xlabel(\"Iteration\")\n",
        "plt.ylabel(\"Value\")\n",
        "plt.show()\n"
      ],
      "metadata": {
        "id": "YDxTWEDA_PzH",
        "colab": {
          "base_uri": "https://localhost:8080/",
          "height": 944
        },
        "outputId": "9ddd7068-9b22-4924-fa23-5ed4b25bcb81"
      },
      "execution_count": null,
      "outputs": [
        {
          "output_type": "stream",
          "name": "stdout",
          "text": [
            "[[1, 15], [1, 20]]\n",
            "[[-100.93 ]\n",
            " [  30.914]]\n",
            "[[1, 15, 225], [1, 20, 400], [1, 10, 100]]\n",
            "[[12.05  ]\n",
            " [17.733 ]\n",
            " [ 0.3766]]\n",
            "[[1, 15, 225, 3375], [1, 20, 400, 8000], [1, 10, 100, 1000], [1, 22.5, 506.25, 11390.625]]\n",
            "[[-4.25400000e+00]\n",
            " [ 2.12655333e+01]\n",
            " [ 1.32040000e-01]\n",
            " [ 5.43466667e-03]]\n",
            "[[1, 15, 225, 3375, 50625], [1, 20, 400, 8000, 160000], [1, 10, 100, 1000, 10000], [1, 22.5, 506.25, 11390.625, 256289.0625], [1, 30, 900, 27000, 810000]]\n",
            "[[ 2.90400000e+00]\n",
            " [ 1.93965000e+01]\n",
            " [ 3.08338889e-01]\n",
            " [-1.72333333e-03]\n",
            " [ 1.06044444e-04]]\n",
            "[[1, 15, 225, 3375, 50625, 759375], [1, 20, 400, 8000, 160000, 3200000], [1, 10, 100, 1000, 10000, 100000], [1, 22.5, 506.25, 11390.625, 256289.0625, 5766503.90625], [1, 30, 900, 27000, 810000, 24300000], [1, 0, 0, 0, 0, 0]]\n",
            "[[ 0.00000000e+00]\n",
            " [ 2.02515667e+01]\n",
            " [ 2.11538889e-01]\n",
            " [ 3.56481481e-03]\n",
            " [-3.37777778e-05]\n",
            " [ 1.43407407e-06]]\n",
            "[1, 2, 3, 4, 5] [0.38410189409324613, 0.033268617601177886, -0.004219342650997014, 0.0007988402876568004]\n"
          ]
        },
        {
          "output_type": "display_data",
          "data": {
            "text/plain": [
              "<Figure size 640x480 with 1 Axes>"
            ],
            "image/png": "[encoded data removed]"
          },
          "metadata": {}
        }
      ]
    },
    {
      "cell_type": "markdown",
      "source": [
        "##Task 4\n",
        "Now, write a function for evaluating the acceleration at $t = 16$"
      ],
      "metadata": {
        "id": "TQaze05x-0B6"
      }
    },
    {
      "cell_type": "code",
      "source": [
        "#implement the acceleration function\n",
        "def acceleration(f, t_new):\n",
        "  # write your code here\n",
        "  a_list = []\n",
        "  for i in range(len(f)):\n",
        "    a_list.append(f[i][0] * i)\n",
        "  a_list.pop(0)\n",
        "  print(\"f\", np.array(a_list).reshape(-1,1))\n",
        "  #print(f, a_list)\n",
        "\n",
        "  return eval(np.array(a_list).reshape(-1,1), 16)"
      ],
      "metadata": {
        "id": "M3Vhtwnu-99O"
      },
      "execution_count": null,
      "outputs": []
    },
    {
      "cell_type": "code",
      "source": [
        "print(acceleration(DirectInterpolation(t, v, 2, 16), 16))"
      ],
      "metadata": {
        "colab": {
          "base_uri": "https://localhost:8080/"
        },
        "id": "yC2VGyU7Dlus",
        "outputId": "378ffdfe-1441-4efb-ef48-b286fe599ae9"
      },
      "execution_count": null,
      "outputs": [
        {
          "output_type": "stream",
          "name": "stdout",
          "text": [
            "[[1, 15, 225], [1, 20, 400], [1, 10, 100]]\n",
            "[[12.05  ]\n",
            " [17.733 ]\n",
            " [ 0.3766]]\n",
            "f [[17.733 ]\n",
            " [ 0.7532]]\n",
            "29.784200000000084\n"
          ]
        }
      ]
    },
    {
      "cell_type": "code",
      "source": [],
      "metadata": {
        "id": "KLZEQ_NrHJO9"
      },
      "execution_count": null,
      "outputs": []
    }
  ]
}